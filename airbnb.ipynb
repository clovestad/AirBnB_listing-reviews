{
 "cells": [
  {
   "cell_type": "code",
   "execution_count": 88,
   "metadata": {},
   "outputs": [],
   "source": [
    "import pandas as pd\n",
    "import os"
   ]
  },
  {
   "cell_type": "code",
   "execution_count": 89,
   "metadata": {},
   "outputs": [
    {
     "data": {
      "text/plain": [
       "['Listings.csv',\n",
       " 'Listings_data_dictionary.csv',\n",
       " 'Reviews.csv',\n",
       " 'Reviews_data_dictionary.csv']"
      ]
     },
     "execution_count": 89,
     "metadata": {},
     "output_type": "execute_result"
    }
   ],
   "source": [
    "#import\n",
    "os.makedirs('Data/',exist_ok=True) \n",
    "os.listdir('Data')"
   ]
  },
  {
   "cell_type": "code",
   "execution_count": 90,
   "metadata": {},
   "outputs": [],
   "source": [
    "listings = pd.read_csv('Data/Listings.csv', encoding='ISO-8859-1',low_memory= False)\n",
    "reviews=pd.read_csv('Data/Reviews.csv', encoding='ISO-8859-1',low_memory= False)"
   ]
  },
  {
   "cell_type": "code",
   "execution_count": 91,
   "metadata": {},
   "outputs": [
    {
     "data": {
      "text/html": [
       "<div>\n",
       "<style scoped>\n",
       "    .dataframe tbody tr th:only-of-type {\n",
       "        vertical-align: middle;\n",
       "    }\n",
       "\n",
       "    .dataframe tbody tr th {\n",
       "        vertical-align: top;\n",
       "    }\n",
       "\n",
       "    .dataframe thead th {\n",
       "        text-align: right;\n",
       "    }\n",
       "</style>\n",
       "<table border=\"1\" class=\"dataframe\">\n",
       "  <thead>\n",
       "    <tr style=\"text-align: right;\">\n",
       "      <th></th>\n",
       "      <th>listing_id</th>\n",
       "      <th>name</th>\n",
       "      <th>host_id</th>\n",
       "      <th>host_since</th>\n",
       "      <th>host_location</th>\n",
       "      <th>host_response_time</th>\n",
       "      <th>host_response_rate</th>\n",
       "      <th>host_acceptance_rate</th>\n",
       "      <th>host_is_superhost</th>\n",
       "      <th>host_total_listings_count</th>\n",
       "      <th>...</th>\n",
       "      <th>minimum_nights</th>\n",
       "      <th>maximum_nights</th>\n",
       "      <th>review_scores_rating</th>\n",
       "      <th>review_scores_accuracy</th>\n",
       "      <th>review_scores_cleanliness</th>\n",
       "      <th>review_scores_checkin</th>\n",
       "      <th>review_scores_communication</th>\n",
       "      <th>review_scores_location</th>\n",
       "      <th>review_scores_value</th>\n",
       "      <th>instant_bookable</th>\n",
       "    </tr>\n",
       "  </thead>\n",
       "  <tbody>\n",
       "    <tr>\n",
       "      <th>0</th>\n",
       "      <td>281420</td>\n",
       "      <td>Beautiful Flat in le Village Montmartre, Paris</td>\n",
       "      <td>1466919</td>\n",
       "      <td>2011-12-03</td>\n",
       "      <td>Paris, Ile-de-France, France</td>\n",
       "      <td>NaN</td>\n",
       "      <td>NaN</td>\n",
       "      <td>NaN</td>\n",
       "      <td>f</td>\n",
       "      <td>1.0</td>\n",
       "      <td>...</td>\n",
       "      <td>2</td>\n",
       "      <td>1125</td>\n",
       "      <td>100.0</td>\n",
       "      <td>10.0</td>\n",
       "      <td>10.0</td>\n",
       "      <td>10.0</td>\n",
       "      <td>10.0</td>\n",
       "      <td>10.0</td>\n",
       "      <td>10.0</td>\n",
       "      <td>f</td>\n",
       "    </tr>\n",
       "    <tr>\n",
       "      <th>1</th>\n",
       "      <td>3705183</td>\n",
       "      <td>39 mÃÂ² Paris (Sacre CÃâur)</td>\n",
       "      <td>10328771</td>\n",
       "      <td>2013-11-29</td>\n",
       "      <td>Paris, Ile-de-France, France</td>\n",
       "      <td>NaN</td>\n",
       "      <td>NaN</td>\n",
       "      <td>NaN</td>\n",
       "      <td>f</td>\n",
       "      <td>1.0</td>\n",
       "      <td>...</td>\n",
       "      <td>2</td>\n",
       "      <td>1125</td>\n",
       "      <td>100.0</td>\n",
       "      <td>10.0</td>\n",
       "      <td>10.0</td>\n",
       "      <td>10.0</td>\n",
       "      <td>10.0</td>\n",
       "      <td>10.0</td>\n",
       "      <td>10.0</td>\n",
       "      <td>f</td>\n",
       "    </tr>\n",
       "    <tr>\n",
       "      <th>2</th>\n",
       "      <td>4082273</td>\n",
       "      <td>Lovely apartment with Terrace, 60m2</td>\n",
       "      <td>19252768</td>\n",
       "      <td>2014-07-31</td>\n",
       "      <td>Paris, Ile-de-France, France</td>\n",
       "      <td>NaN</td>\n",
       "      <td>NaN</td>\n",
       "      <td>NaN</td>\n",
       "      <td>f</td>\n",
       "      <td>1.0</td>\n",
       "      <td>...</td>\n",
       "      <td>2</td>\n",
       "      <td>1125</td>\n",
       "      <td>100.0</td>\n",
       "      <td>10.0</td>\n",
       "      <td>10.0</td>\n",
       "      <td>10.0</td>\n",
       "      <td>10.0</td>\n",
       "      <td>10.0</td>\n",
       "      <td>10.0</td>\n",
       "      <td>f</td>\n",
       "    </tr>\n",
       "    <tr>\n",
       "      <th>3</th>\n",
       "      <td>4797344</td>\n",
       "      <td>Cosy studio (close to Eiffel tower)</td>\n",
       "      <td>10668311</td>\n",
       "      <td>2013-12-17</td>\n",
       "      <td>Paris, Ile-de-France, France</td>\n",
       "      <td>NaN</td>\n",
       "      <td>NaN</td>\n",
       "      <td>NaN</td>\n",
       "      <td>f</td>\n",
       "      <td>1.0</td>\n",
       "      <td>...</td>\n",
       "      <td>2</td>\n",
       "      <td>1125</td>\n",
       "      <td>100.0</td>\n",
       "      <td>10.0</td>\n",
       "      <td>10.0</td>\n",
       "      <td>10.0</td>\n",
       "      <td>10.0</td>\n",
       "      <td>10.0</td>\n",
       "      <td>10.0</td>\n",
       "      <td>f</td>\n",
       "    </tr>\n",
       "    <tr>\n",
       "      <th>4</th>\n",
       "      <td>4823489</td>\n",
       "      <td>Close to Eiffel Tower - Beautiful flat : 2 rooms</td>\n",
       "      <td>24837558</td>\n",
       "      <td>2014-12-14</td>\n",
       "      <td>Paris, Ile-de-France, France</td>\n",
       "      <td>NaN</td>\n",
       "      <td>NaN</td>\n",
       "      <td>NaN</td>\n",
       "      <td>f</td>\n",
       "      <td>1.0</td>\n",
       "      <td>...</td>\n",
       "      <td>2</td>\n",
       "      <td>1125</td>\n",
       "      <td>100.0</td>\n",
       "      <td>10.0</td>\n",
       "      <td>10.0</td>\n",
       "      <td>10.0</td>\n",
       "      <td>10.0</td>\n",
       "      <td>10.0</td>\n",
       "      <td>10.0</td>\n",
       "      <td>f</td>\n",
       "    </tr>\n",
       "  </tbody>\n",
       "</table>\n",
       "<p>5 rows × 33 columns</p>\n",
       "</div>"
      ],
      "text/plain": [
       "   listing_id                                              name   host_id  \\\n",
       "0      281420    Beautiful Flat in le Village Montmartre, Paris   1466919   \n",
       "1     3705183                   39 mÃÂ² Paris (Sacre CÃ\n",
       "âur)  10328771   \n",
       "2     4082273               Lovely apartment with Terrace, 60m2  19252768   \n",
       "3     4797344               Cosy studio (close to Eiffel tower)  10668311   \n",
       "4     4823489  Close to Eiffel Tower - Beautiful flat : 2 rooms  24837558   \n",
       "\n",
       "   host_since                 host_location host_response_time  \\\n",
       "0  2011-12-03  Paris, Ile-de-France, France                NaN   \n",
       "1  2013-11-29  Paris, Ile-de-France, France                NaN   \n",
       "2  2014-07-31  Paris, Ile-de-France, France                NaN   \n",
       "3  2013-12-17  Paris, Ile-de-France, France                NaN   \n",
       "4  2014-12-14  Paris, Ile-de-France, France                NaN   \n",
       "\n",
       "   host_response_rate  host_acceptance_rate host_is_superhost  \\\n",
       "0                 NaN                   NaN                 f   \n",
       "1                 NaN                   NaN                 f   \n",
       "2                 NaN                   NaN                 f   \n",
       "3                 NaN                   NaN                 f   \n",
       "4                 NaN                   NaN                 f   \n",
       "\n",
       "   host_total_listings_count  ... minimum_nights maximum_nights  \\\n",
       "0                        1.0  ...              2           1125   \n",
       "1                        1.0  ...              2           1125   \n",
       "2                        1.0  ...              2           1125   \n",
       "3                        1.0  ...              2           1125   \n",
       "4                        1.0  ...              2           1125   \n",
       "\n",
       "  review_scores_rating review_scores_accuracy review_scores_cleanliness  \\\n",
       "0                100.0                   10.0                      10.0   \n",
       "1                100.0                   10.0                      10.0   \n",
       "2                100.0                   10.0                      10.0   \n",
       "3                100.0                   10.0                      10.0   \n",
       "4                100.0                   10.0                      10.0   \n",
       "\n",
       "   review_scores_checkin  review_scores_communication review_scores_location  \\\n",
       "0                   10.0                         10.0                   10.0   \n",
       "1                   10.0                         10.0                   10.0   \n",
       "2                   10.0                         10.0                   10.0   \n",
       "3                   10.0                         10.0                   10.0   \n",
       "4                   10.0                         10.0                   10.0   \n",
       "\n",
       "  review_scores_value  instant_bookable  \n",
       "0                10.0                 f  \n",
       "1                10.0                 f  \n",
       "2                10.0                 f  \n",
       "3                10.0                 f  \n",
       "4                10.0                 f  \n",
       "\n",
       "[5 rows x 33 columns]"
      ]
     },
     "execution_count": 91,
     "metadata": {},
     "output_type": "execute_result"
    }
   ],
   "source": [
    "listings.head()"
   ]
  },
  {
   "cell_type": "code",
   "execution_count": 92,
   "metadata": {},
   "outputs": [
    {
     "data": {
      "text/html": [
       "<div>\n",
       "<style scoped>\n",
       "    .dataframe tbody tr th:only-of-type {\n",
       "        vertical-align: middle;\n",
       "    }\n",
       "\n",
       "    .dataframe tbody tr th {\n",
       "        vertical-align: top;\n",
       "    }\n",
       "\n",
       "    .dataframe thead th {\n",
       "        text-align: right;\n",
       "    }\n",
       "</style>\n",
       "<table border=\"1\" class=\"dataframe\">\n",
       "  <thead>\n",
       "    <tr style=\"text-align: right;\">\n",
       "      <th></th>\n",
       "      <th>listing_id</th>\n",
       "      <th>review_id</th>\n",
       "      <th>date</th>\n",
       "      <th>reviewer_id</th>\n",
       "    </tr>\n",
       "  </thead>\n",
       "  <tbody>\n",
       "    <tr>\n",
       "      <th>0</th>\n",
       "      <td>11798</td>\n",
       "      <td>330265172</td>\n",
       "      <td>2018-09-30</td>\n",
       "      <td>11863072</td>\n",
       "    </tr>\n",
       "    <tr>\n",
       "      <th>1</th>\n",
       "      <td>15383</td>\n",
       "      <td>330103585</td>\n",
       "      <td>2018-09-30</td>\n",
       "      <td>39147453</td>\n",
       "    </tr>\n",
       "    <tr>\n",
       "      <th>2</th>\n",
       "      <td>16455</td>\n",
       "      <td>329985788</td>\n",
       "      <td>2018-09-30</td>\n",
       "      <td>1125378</td>\n",
       "    </tr>\n",
       "    <tr>\n",
       "      <th>3</th>\n",
       "      <td>17919</td>\n",
       "      <td>330016899</td>\n",
       "      <td>2018-09-30</td>\n",
       "      <td>172717984</td>\n",
       "    </tr>\n",
       "    <tr>\n",
       "      <th>4</th>\n",
       "      <td>26827</td>\n",
       "      <td>329995638</td>\n",
       "      <td>2018-09-30</td>\n",
       "      <td>17542859</td>\n",
       "    </tr>\n",
       "  </tbody>\n",
       "</table>\n",
       "</div>"
      ],
      "text/plain": [
       "   listing_id  review_id        date  reviewer_id\n",
       "0       11798  330265172  2018-09-30     11863072\n",
       "1       15383  330103585  2018-09-30     39147453\n",
       "2       16455  329985788  2018-09-30      1125378\n",
       "3       17919  330016899  2018-09-30    172717984\n",
       "4       26827  329995638  2018-09-30     17542859"
      ]
     },
     "execution_count": 92,
     "metadata": {},
     "output_type": "execute_result"
    }
   ],
   "source": [
    "reviews.head()"
   ]
  },
  {
   "cell_type": "code",
   "execution_count": 93,
   "metadata": {},
   "outputs": [
    {
     "data": {
      "text/plain": [
       "0   2011-12-03\n",
       "1   2013-11-29\n",
       "2   2014-07-31\n",
       "3   2013-12-17\n",
       "4   2014-12-14\n",
       "Name: host_since, dtype: datetime64[ns]"
      ]
     },
     "execution_count": 93,
     "metadata": {},
     "output_type": "execute_result"
    }
   ],
   "source": [
    "listings['host_since']= pd.to_datetime(listings['host_since']\n",
    ")\n",
    "listings['host_since'].head()"
   ]
  },
  {
   "cell_type": "code",
   "execution_count": 94,
   "metadata": {},
   "outputs": [
    {
     "data": {
      "text/plain": [
       "listing_id                              int64\n",
       "name                                   object\n",
       "host_id                                 int64\n",
       "host_since                     datetime64[ns]\n",
       "host_location                          object\n",
       "host_response_time                     object\n",
       "host_response_rate                    float64\n",
       "host_acceptance_rate                  float64\n",
       "host_is_superhost                      object\n",
       "host_total_listings_count             float64\n",
       "host_has_profile_pic                   object\n",
       "host_identity_verified                 object\n",
       "neighbourhood                          object\n",
       "district                               object\n",
       "city                                   object\n",
       "latitude                              float64\n",
       "longitude                             float64\n",
       "property_type                          object\n",
       "room_type                              object\n",
       "accommodates                            int64\n",
       "bedrooms                              float64\n",
       "amenities                              object\n",
       "price                                   int64\n",
       "minimum_nights                          int64\n",
       "maximum_nights                          int64\n",
       "review_scores_rating                  float64\n",
       "review_scores_accuracy                float64\n",
       "review_scores_cleanliness             float64\n",
       "review_scores_checkin                 float64\n",
       "review_scores_communication           float64\n",
       "review_scores_location                float64\n",
       "review_scores_value                   float64\n",
       "instant_bookable                       object\n",
       "dtype: object"
      ]
     },
     "execution_count": 94,
     "metadata": {},
     "output_type": "execute_result"
    }
   ],
   "source": [
    "listings.dtypes"
   ]
  },
  {
   "cell_type": "code",
   "execution_count": 95,
   "metadata": {},
   "outputs": [
    {
     "name": "stdout",
     "output_type": "stream",
     "text": [
      "<class 'pandas.core.frame.DataFrame'>\n",
      "Int64Index: 64690 entries, 0 to 279711\n",
      "Data columns (total 33 columns):\n",
      " #   Column                       Non-Null Count  Dtype         \n",
      "---  ------                       --------------  -----         \n",
      " 0   listing_id                   64690 non-null  int64         \n",
      " 1   name                         64627 non-null  object        \n",
      " 2   host_id                      64690 non-null  int64         \n",
      " 3   host_since                   64657 non-null  datetime64[ns]\n",
      " 4   host_location                64522 non-null  object        \n",
      " 5   host_response_time           23346 non-null  object        \n",
      " 6   host_response_rate           23346 non-null  float64       \n",
      " 7   host_acceptance_rate         31919 non-null  float64       \n",
      " 8   host_is_superhost            64657 non-null  object        \n",
      " 9   host_total_listings_count    64657 non-null  float64       \n",
      " 10  host_has_profile_pic         64657 non-null  object        \n",
      " 11  host_identity_verified       64657 non-null  object        \n",
      " 12  neighbourhood                64690 non-null  object        \n",
      " 13  district                     0 non-null      object        \n",
      " 14  city                         64690 non-null  object        \n",
      " 15  latitude                     64690 non-null  float64       \n",
      " 16  longitude                    64690 non-null  float64       \n",
      " 17  property_type                64690 non-null  object        \n",
      " 18  room_type                    64690 non-null  object        \n",
      " 19  accommodates                 64690 non-null  int64         \n",
      " 20  bedrooms                     51286 non-null  float64       \n",
      " 21  amenities                    64690 non-null  object        \n",
      " 22  price                        64690 non-null  int64         \n",
      " 23  minimum_nights               64690 non-null  int64         \n",
      " 24  maximum_nights               64690 non-null  int64         \n",
      " 25  review_scores_rating         48036 non-null  float64       \n",
      " 26  review_scores_accuracy       47989 non-null  float64       \n",
      " 27  review_scores_cleanliness    47998 non-null  float64       \n",
      " 28  review_scores_checkin        47972 non-null  float64       \n",
      " 29  review_scores_communication  47991 non-null  float64       \n",
      " 30  review_scores_location       47971 non-null  float64       \n",
      " 31  review_scores_value          47972 non-null  float64       \n",
      " 32  instant_bookable             64690 non-null  object        \n",
      "dtypes: datetime64[ns](1), float64(13), int64(6), object(13)\n",
      "memory usage: 16.8+ MB\n"
     ]
    }
   ],
   "source": [
    "paris= listings[listings['city'] == 'Paris']\n",
    "paris.info()"
   ]
  },
  {
   "cell_type": "code",
   "execution_count": 96,
   "metadata": {},
   "outputs": [
    {
     "data": {
      "text/plain": [
       "listing_id                         0\n",
       "name                              63\n",
       "host_id                            0\n",
       "host_since                        33\n",
       "host_location                    168\n",
       "host_response_time             41344\n",
       "host_response_rate             41344\n",
       "host_acceptance_rate           32771\n",
       "host_is_superhost                 33\n",
       "host_total_listings_count         33\n",
       "host_has_profile_pic              33\n",
       "host_identity_verified            33\n",
       "neighbourhood                      0\n",
       "district                       64690\n",
       "city                               0\n",
       "latitude                           0\n",
       "longitude                          0\n",
       "property_type                      0\n",
       "room_type                          0\n",
       "accommodates                       0\n",
       "bedrooms                       13404\n",
       "amenities                          0\n",
       "price                              0\n",
       "minimum_nights                     0\n",
       "maximum_nights                     0\n",
       "review_scores_rating           16654\n",
       "review_scores_accuracy         16701\n",
       "review_scores_cleanliness      16692\n",
       "review_scores_checkin          16718\n",
       "review_scores_communication    16699\n",
       "review_scores_location         16719\n",
       "review_scores_value            16718\n",
       "instant_bookable                   0\n",
       "dtype: int64"
      ]
     },
     "execution_count": 96,
     "metadata": {},
     "output_type": "execute_result"
    }
   ],
   "source": [
    "paris.isna().sum()"
   ]
  },
  {
   "cell_type": "code",
   "execution_count": 97,
   "metadata": {},
   "outputs": [
    {
     "data": {
      "text/html": [
       "<div>\n",
       "<style scoped>\n",
       "    .dataframe tbody tr th:only-of-type {\n",
       "        vertical-align: middle;\n",
       "    }\n",
       "\n",
       "    .dataframe tbody tr th {\n",
       "        vertical-align: top;\n",
       "    }\n",
       "\n",
       "    .dataframe thead th {\n",
       "        text-align: right;\n",
       "    }\n",
       "</style>\n",
       "<table border=\"1\" class=\"dataframe\">\n",
       "  <thead>\n",
       "    <tr style=\"text-align: right;\">\n",
       "      <th></th>\n",
       "      <th>host_since</th>\n",
       "      <th>neighbourhood</th>\n",
       "      <th>city</th>\n",
       "      <th>price</th>\n",
       "      <th>accommodates</th>\n",
       "    </tr>\n",
       "  </thead>\n",
       "  <tbody>\n",
       "    <tr>\n",
       "      <th>0</th>\n",
       "      <td>2011-12-03</td>\n",
       "      <td>Buttes-Montmartre</td>\n",
       "      <td>Paris</td>\n",
       "      <td>53</td>\n",
       "      <td>2</td>\n",
       "    </tr>\n",
       "    <tr>\n",
       "      <th>1</th>\n",
       "      <td>2013-11-29</td>\n",
       "      <td>Buttes-Montmartre</td>\n",
       "      <td>Paris</td>\n",
       "      <td>120</td>\n",
       "      <td>2</td>\n",
       "    </tr>\n",
       "    <tr>\n",
       "      <th>2</th>\n",
       "      <td>2014-07-31</td>\n",
       "      <td>Elysee</td>\n",
       "      <td>Paris</td>\n",
       "      <td>89</td>\n",
       "      <td>2</td>\n",
       "    </tr>\n",
       "    <tr>\n",
       "      <th>3</th>\n",
       "      <td>2013-12-17</td>\n",
       "      <td>Vaugirard</td>\n",
       "      <td>Paris</td>\n",
       "      <td>58</td>\n",
       "      <td>2</td>\n",
       "    </tr>\n",
       "    <tr>\n",
       "      <th>4</th>\n",
       "      <td>2014-12-14</td>\n",
       "      <td>Passy</td>\n",
       "      <td>Paris</td>\n",
       "      <td>60</td>\n",
       "      <td>2</td>\n",
       "    </tr>\n",
       "  </tbody>\n",
       "</table>\n",
       "</div>"
      ],
      "text/plain": [
       "  host_since      neighbourhood   city  price  accommodates\n",
       "0 2011-12-03  Buttes-Montmartre  Paris     53             2\n",
       "1 2013-11-29  Buttes-Montmartre  Paris    120             2\n",
       "2 2014-07-31             Elysee  Paris     89             2\n",
       "3 2013-12-17          Vaugirard  Paris     58             2\n",
       "4 2014-12-14              Passy  Paris     60             2"
      ]
     },
     "execution_count": 97,
     "metadata": {},
     "output_type": "execute_result"
    }
   ],
   "source": [
    "keepers= ['host_since','neighbourhood','city','price', 'accommodates']\n",
    "df=paris[keepers]\n",
    "df.head()"
   ]
  },
  {
   "cell_type": "code",
   "execution_count": 98,
   "metadata": {},
   "outputs": [
    {
     "data": {
      "text/plain": [
       "host_since       33\n",
       "neighbourhood     0\n",
       "city              0\n",
       "price             0\n",
       "accommodates      0\n",
       "dtype: int64"
      ]
     },
     "execution_count": 98,
     "metadata": {},
     "output_type": "execute_result"
    }
   ],
   "source": [
    "df.isna().sum()"
   ]
  },
  {
   "cell_type": "code",
   "execution_count": 99,
   "metadata": {},
   "outputs": [
    {
     "data": {
      "text/plain": [
       "host_since       0\n",
       "neighbourhood    0\n",
       "city             0\n",
       "price            0\n",
       "accommodates     0\n",
       "dtype: int64"
      ]
     },
     "execution_count": 99,
     "metadata": {},
     "output_type": "execute_result"
    }
   ],
   "source": [
    "df=df.dropna()\n",
    "df.isna().sum()"
   ]
  },
  {
   "cell_type": "code",
   "execution_count": 100,
   "metadata": {},
   "outputs": [
    {
     "data": {
      "text/html": [
       "<div>\n",
       "<style scoped>\n",
       "    .dataframe tbody tr th:only-of-type {\n",
       "        vertical-align: middle;\n",
       "    }\n",
       "\n",
       "    .dataframe tbody tr th {\n",
       "        vertical-align: top;\n",
       "    }\n",
       "\n",
       "    .dataframe thead th {\n",
       "        text-align: right;\n",
       "    }\n",
       "</style>\n",
       "<table border=\"1\" class=\"dataframe\">\n",
       "  <thead>\n",
       "    <tr style=\"text-align: right;\">\n",
       "      <th></th>\n",
       "      <th>price</th>\n",
       "      <th>accommodates</th>\n",
       "    </tr>\n",
       "  </thead>\n",
       "  <tbody>\n",
       "    <tr>\n",
       "      <th>count</th>\n",
       "      <td>64657.000000</td>\n",
       "      <td>64657.000000</td>\n",
       "    </tr>\n",
       "    <tr>\n",
       "      <th>mean</th>\n",
       "      <td>113.104614</td>\n",
       "      <td>3.037877</td>\n",
       "    </tr>\n",
       "    <tr>\n",
       "      <th>std</th>\n",
       "      <td>214.479626</td>\n",
       "      <td>1.588382</td>\n",
       "    </tr>\n",
       "    <tr>\n",
       "      <th>min</th>\n",
       "      <td>0.000000</td>\n",
       "      <td>0.000000</td>\n",
       "    </tr>\n",
       "    <tr>\n",
       "      <th>25%</th>\n",
       "      <td>59.000000</td>\n",
       "      <td>2.000000</td>\n",
       "    </tr>\n",
       "    <tr>\n",
       "      <th>50%</th>\n",
       "      <td>80.000000</td>\n",
       "      <td>2.000000</td>\n",
       "    </tr>\n",
       "    <tr>\n",
       "      <th>75%</th>\n",
       "      <td>120.000000</td>\n",
       "      <td>4.000000</td>\n",
       "    </tr>\n",
       "    <tr>\n",
       "      <th>max</th>\n",
       "      <td>12000.000000</td>\n",
       "      <td>16.000000</td>\n",
       "    </tr>\n",
       "  </tbody>\n",
       "</table>\n",
       "</div>"
      ],
      "text/plain": [
       "              price  accommodates\n",
       "count  64657.000000  64657.000000\n",
       "mean     113.104614      3.037877\n",
       "std      214.479626      1.588382\n",
       "min        0.000000      0.000000\n",
       "25%       59.000000      2.000000\n",
       "50%       80.000000      2.000000\n",
       "75%      120.000000      4.000000\n",
       "max    12000.000000     16.000000"
      ]
     },
     "execution_count": 100,
     "metadata": {},
     "output_type": "execute_result"
    }
   ],
   "source": [
    "df.describe()"
   ]
  },
  {
   "cell_type": "markdown",
   "metadata": {},
   "source": [
    "PT2 -Visuals"
   ]
  },
  {
   "cell_type": "code",
   "execution_count": 101,
   "metadata": {},
   "outputs": [
    {
     "data": {
      "text/html": [
       "<div>\n",
       "<style scoped>\n",
       "    .dataframe tbody tr th:only-of-type {\n",
       "        vertical-align: middle;\n",
       "    }\n",
       "\n",
       "    .dataframe tbody tr th {\n",
       "        vertical-align: top;\n",
       "    }\n",
       "\n",
       "    .dataframe thead th {\n",
       "        text-align: right;\n",
       "    }\n",
       "</style>\n",
       "<table border=\"1\" class=\"dataframe\">\n",
       "  <thead>\n",
       "    <tr style=\"text-align: right;\">\n",
       "      <th></th>\n",
       "      <th>neighbourhood</th>\n",
       "      <th>price</th>\n",
       "    </tr>\n",
       "  </thead>\n",
       "  <tbody>\n",
       "    <tr>\n",
       "      <th>10</th>\n",
       "      <td>Menilmontant</td>\n",
       "      <td>74.911561</td>\n",
       "    </tr>\n",
       "    <tr>\n",
       "      <th>2</th>\n",
       "      <td>Buttes-Chaumont</td>\n",
       "      <td>82.690182</td>\n",
       "    </tr>\n",
       "    <tr>\n",
       "      <th>3</th>\n",
       "      <td>Buttes-Montmartre</td>\n",
       "      <td>87.222069</td>\n",
       "    </tr>\n",
       "    <tr>\n",
       "      <th>17</th>\n",
       "      <td>Reuilly</td>\n",
       "      <td>89.058402</td>\n",
       "    </tr>\n",
       "    <tr>\n",
       "      <th>16</th>\n",
       "      <td>Popincourt</td>\n",
       "      <td>90.518955</td>\n",
       "    </tr>\n",
       "  </tbody>\n",
       "</table>\n",
       "</div>"
      ],
      "text/plain": [
       "        neighbourhood      price\n",
       "10       Menilmontant  74.911561\n",
       "2     Buttes-Chaumont  82.690182\n",
       "3   Buttes-Montmartre  87.222069\n",
       "17            Reuilly  89.058402\n",
       "16         Popincourt  90.518955"
      ]
     },
     "execution_count": 101,
     "metadata": {},
     "output_type": "execute_result"
    }
   ],
   "source": [
    "paris_listings_neighbourhood = df.groupby('neighbourhood')['price'].mean().reset_index()\n",
    "\n",
    "# Sort the result by the mean price in ascending order (low to high)\n",
    "paris_listings_neighbourhood_sorted = paris_listings_neighbourhood.sort_values(by='price', ascending=True)\n",
    "paris_listings_neighbourhood_sorted.head()"
   ]
  },
  {
   "cell_type": "code",
   "execution_count": 102,
   "metadata": {},
   "outputs": [
    {
     "data": {
      "text/html": [
       "<div>\n",
       "<style scoped>\n",
       "    .dataframe tbody tr th:only-of-type {\n",
       "        vertical-align: middle;\n",
       "    }\n",
       "\n",
       "    .dataframe tbody tr th {\n",
       "        vertical-align: top;\n",
       "    }\n",
       "\n",
       "    .dataframe thead th {\n",
       "        text-align: right;\n",
       "    }\n",
       "</style>\n",
       "<table border=\"1\" class=\"dataframe\">\n",
       "  <thead>\n",
       "    <tr style=\"text-align: right;\">\n",
       "      <th></th>\n",
       "      <th>accommodates</th>\n",
       "      <th>price</th>\n",
       "    </tr>\n",
       "  </thead>\n",
       "  <tbody>\n",
       "    <tr>\n",
       "      <th>0</th>\n",
       "      <td>0</td>\n",
       "      <td>0.000000</td>\n",
       "    </tr>\n",
       "    <tr>\n",
       "      <th>1</th>\n",
       "      <td>1</td>\n",
       "      <td>79.522222</td>\n",
       "    </tr>\n",
       "    <tr>\n",
       "      <th>3</th>\n",
       "      <td>3</td>\n",
       "      <td>152.828767</td>\n",
       "    </tr>\n",
       "    <tr>\n",
       "      <th>2</th>\n",
       "      <td>2</td>\n",
       "      <td>155.103352</td>\n",
       "    </tr>\n",
       "    <tr>\n",
       "      <th>4</th>\n",
       "      <td>4</td>\n",
       "      <td>212.096070</td>\n",
       "    </tr>\n",
       "  </tbody>\n",
       "</table>\n",
       "</div>"
      ],
      "text/plain": [
       "   accommodates       price\n",
       "0             0    0.000000\n",
       "1             1   79.522222\n",
       "3             3  152.828767\n",
       "2             2  155.103352\n",
       "4             4  212.096070"
      ]
     },
     "execution_count": 102,
     "metadata": {},
     "output_type": "execute_result"
    }
   ],
   "source": [
    "most_expensive_neighbourhood = df.groupby('neighbourhood')['price'].mean().idxmax()\n",
    "df_most_expensive = df[df['neighbourhood'] == most_expensive_neighbourhood]\n",
    "paris_listings_accommodations = df_most_expensive.groupby('accommodates')['price'].mean().reset_index()\n",
    "paris_listings_accommodations_sorted = paris_listings_accommodations.sort_values(by='price', ascending=True)\n",
    "paris_listings_accommodations_sorted.head()"
   ]
  },
  {
   "cell_type": "code",
   "execution_count": 103,
   "metadata": {},
   "outputs": [
    {
     "data": {
      "text/plain": [
       "host_since       0\n",
       "neighbourhood    0\n",
       "city             0\n",
       "price            0\n",
       "accommodates     0\n",
       "dtype: int64"
      ]
     },
     "execution_count": 103,
     "metadata": {},
     "output_type": "execute_result"
    }
   ],
   "source": [
    "df.isna().sum()"
   ]
  },
  {
   "cell_type": "code",
   "execution_count": 104,
   "metadata": {},
   "outputs": [
    {
     "data": {
      "text/html": [
       "<div>\n",
       "<style scoped>\n",
       "    .dataframe tbody tr th:only-of-type {\n",
       "        vertical-align: middle;\n",
       "    }\n",
       "\n",
       "    .dataframe tbody tr th {\n",
       "        vertical-align: top;\n",
       "    }\n",
       "\n",
       "    .dataframe thead th {\n",
       "        text-align: right;\n",
       "    }\n",
       "</style>\n",
       "<table border=\"1\" class=\"dataframe\">\n",
       "  <thead>\n",
       "    <tr style=\"text-align: right;\">\n",
       "      <th></th>\n",
       "      <th>price</th>\n",
       "      <th>accommodates</th>\n",
       "    </tr>\n",
       "  </thead>\n",
       "  <tbody>\n",
       "    <tr>\n",
       "      <th>count</th>\n",
       "      <td>64657.000000</td>\n",
       "      <td>64657.000000</td>\n",
       "    </tr>\n",
       "    <tr>\n",
       "      <th>mean</th>\n",
       "      <td>113.104614</td>\n",
       "      <td>3.037877</td>\n",
       "    </tr>\n",
       "    <tr>\n",
       "      <th>std</th>\n",
       "      <td>214.479626</td>\n",
       "      <td>1.588382</td>\n",
       "    </tr>\n",
       "    <tr>\n",
       "      <th>min</th>\n",
       "      <td>0.000000</td>\n",
       "      <td>0.000000</td>\n",
       "    </tr>\n",
       "    <tr>\n",
       "      <th>25%</th>\n",
       "      <td>59.000000</td>\n",
       "      <td>2.000000</td>\n",
       "    </tr>\n",
       "    <tr>\n",
       "      <th>50%</th>\n",
       "      <td>80.000000</td>\n",
       "      <td>2.000000</td>\n",
       "    </tr>\n",
       "    <tr>\n",
       "      <th>75%</th>\n",
       "      <td>120.000000</td>\n",
       "      <td>4.000000</td>\n",
       "    </tr>\n",
       "    <tr>\n",
       "      <th>max</th>\n",
       "      <td>12000.000000</td>\n",
       "      <td>16.000000</td>\n",
       "    </tr>\n",
       "  </tbody>\n",
       "</table>\n",
       "</div>"
      ],
      "text/plain": [
       "              price  accommodates\n",
       "count  64657.000000  64657.000000\n",
       "mean     113.104614      3.037877\n",
       "std      214.479626      1.588382\n",
       "min        0.000000      0.000000\n",
       "25%       59.000000      2.000000\n",
       "50%       80.000000      2.000000\n",
       "75%      120.000000      4.000000\n",
       "max    12000.000000     16.000000"
      ]
     },
     "execution_count": 104,
     "metadata": {},
     "output_type": "execute_result"
    }
   ],
   "source": [
    "df.describe()"
   ]
  },
  {
   "cell_type": "markdown",
   "metadata": {},
   "source": [
    "pt 3 - Visuals"
   ]
  },
  {
   "cell_type": "code",
   "execution_count": 112,
   "metadata": {},
   "outputs": [],
   "source": [
    "df1= df.sort_values('price', ascending=True)\n",
    "df1_sortie= df1.sort_values('price', ascending=True)"
   ]
  },
  {
   "cell_type": "code",
   "execution_count": 118,
   "metadata": {},
   "outputs": [
    {
     "data": {
      "text/plain": [
       "203265    0\n",
       "208872    0\n",
       "208875    0\n",
       "208876    0\n",
       "208877    0\n",
       "Name: price, dtype: int64"
      ]
     },
     "execution_count": 118,
     "metadata": {},
     "output_type": "execute_result"
    }
   ],
   "source": [
    "df1_sortie['price'].head()"
   ]
  },
  {
   "cell_type": "code",
   "execution_count": 117,
   "metadata": {},
   "outputs": [
    {
     "data": {
      "text/plain": [
       "count    64657.000000\n",
       "mean       113.104614\n",
       "std        214.479626\n",
       "min          0.000000\n",
       "25%         59.000000\n",
       "50%         80.000000\n",
       "75%        120.000000\n",
       "max      12000.000000\n",
       "Name: price, dtype: float64"
      ]
     },
     "execution_count": 117,
     "metadata": {},
     "output_type": "execute_result"
    }
   ],
   "source": [
    "df1_sortie['price'].describe()"
   ]
  },
  {
   "cell_type": "code",
   "execution_count": 114,
   "metadata": {},
   "outputs": [
    {
     "data": {
      "image/png": "[encoded data removed]",
      "text/plain": [
       "<Figure size 1000x600 with 1 Axes>"
      ]
     },
     "metadata": {},
     "output_type": "display_data"
    }
   ],
   "source": [
    "import matplotlib.pyplot as plt\n",
    "plt.figure(figsize=(10, 6))\n",
    "plt.barh(df1_sortie['neighbourhood'], df1_sortie['price'], color='cadetblue')\n",
    "\n",
    "# Add title and labels\n",
    "plt.title('Average Price by Neighborhood in Paris', fontsize=16)\n",
    "plt.xlabel('Average Price (€ per m²)', fontsize=12)\n",
    "plt.ylabel('Neighborhood', fontsize=12)\n",
    "\n",
    "# Show plot\n",
    "plt.tight_layout()\n",
    "plt.show()"
   ]
  },
  {
   "cell_type": "markdown",
   "metadata": {},
   "source": [
    "^ ascending df wip"
   ]
  },
  {
   "cell_type": "markdown",
   "metadata": {},
   "source": []
  }
 ],
 "metadata": {
  "kernelspec": {
   "display_name": "DataAnalyst",
   "language": "python",
   "name": "python3"
  },
  "language_info": {
   "codemirror_mode": {
    "name": "ipython",
    "version": 3
   },
   "file_extension": ".py",
   "mimetype": "text/x-python",
   "name": "python",
   "nbconvert_exporter": "python",
   "pygments_lexer": "ipython3",
   "version": "3.9.15"
  }
 },
 "nbformat": 4,
 "nbformat_minor": 2
}
